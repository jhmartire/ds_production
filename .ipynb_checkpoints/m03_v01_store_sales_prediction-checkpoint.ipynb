{
 "cells": [
  {
   "cell_type": "markdown",
   "id": "d14ec7bd",
   "metadata": {},
   "source": [
    "# 0.0 IMPORTS"
   ]
  },
  {
   "cell_type": "markdown",
   "id": "6c91b4ca",
   "metadata": {
    "ExecuteTime": {
     "end_time": "2023-08-15T22:00:26.755073Z",
     "start_time": "2023-08-15T22:00:26.745869Z"
    }
   },
   "source": [
    "## 0.1. Helper Functions"
   ]
  },
  {
   "cell_type": "code",
   "execution_count": 52,
   "id": "c309fed2",
   "metadata": {
    "ExecuteTime": {
     "end_time": "2023-10-03T22:09:38.323800Z",
     "start_time": "2023-10-03T22:09:38.311419Z"
    }
   },
   "outputs": [],
   "source": [
    "import pandas            as pd \n",
    "import numpy             as np\n",
    "import seaborn           as sns\n",
    "import matplotlib.pyplot as plt\n",
    "\n",
    "import math\n",
    "import inflection\n",
    "import datetime\n",
    "\n",
    "from IPython.core.display import HTML\n",
    "from IPython.display      import Image\n"
   ]
  },
  {
   "cell_type": "markdown",
   "id": "1cc1bc26",
   "metadata": {
    "heading_collapsed": true
   },
   "source": [
    "## 0.1.1 Helper Fuctions"
   ]
  },
  {
   "cell_type": "code",
   "execution_count": 2,
   "id": "38e8f5d6",
   "metadata": {
    "ExecuteTime": {
     "end_time": "2023-10-02T21:40:33.609297Z",
     "start_time": "2023-10-02T21:40:33.603504Z"
    },
    "hidden": true
   },
   "outputs": [],
   "source": [
    "def jupyter_settings():\n",
    "    %matplotlib inline\n",
    "    %pylab inline\n",
    "    plt.style.use( 'bmh' )\n",
    "    plt.rcParams['figure.figsize'] = [18, 6]\n",
    "    plt.rcParams['font.size'] = 24\n",
    "    display( HTML( '<style>.container { width:100% !important; }</style>') )\n",
    "    pd.options.display.max_columns = None\n",
    "    pd.options.display.max_rows = None\n",
    "    pd.set_option( 'display.expand_frame_repr', False )\n",
    "    sns.set()"
   ]
  },
  {
   "cell_type": "code",
   "execution_count": 3,
   "id": "ce7bc3ef",
   "metadata": {
    "ExecuteTime": {
     "end_time": "2023-10-02T21:40:33.622178Z",
     "start_time": "2023-10-02T21:40:33.610559Z"
    },
    "hidden": true
   },
   "outputs": [
    {
     "name": "stdout",
     "output_type": "stream",
     "text": [
      "%pylab is deprecated, use %matplotlib inline and import the required libraries.\n",
      "Populating the interactive namespace from numpy and matplotlib\n"
     ]
    },
    {
     "data": {
      "text/html": [
       "<style>.container { width:100% !important; }</style>"
      ],
      "text/plain": [
       "<IPython.core.display.HTML object>"
      ]
     },
     "metadata": {},
     "output_type": "display_data"
    }
   ],
   "source": [
    " jupyter_settings()"
   ]
  },
  {
   "cell_type": "markdown",
   "id": "df6883e9",
   "metadata": {
    "ExecuteTime": {
     "end_time": "2023-08-15T22:01:48.883336Z",
     "start_time": "2023-08-15T22:01:48.876167Z"
    },
    "heading_collapsed": true
   },
   "source": [
    "## 0.2. Loading Data "
   ]
  },
  {
   "cell_type": "code",
   "execution_count": 4,
   "id": "d36b7dea",
   "metadata": {
    "ExecuteTime": {
     "end_time": "2023-10-02T21:40:34.940677Z",
     "start_time": "2023-10-02T21:40:33.624056Z"
    },
    "hidden": true
   },
   "outputs": [],
   "source": [
    "df_sales_raw = pd.read_csv('data/train.csv', low_memory=False)\n",
    "df_store_raw = pd.read_csv('data/store.csv', low_memory=False)\n",
    "\n",
    "# MERGE\n",
    "df_raw = pd.merge ( df_sales_raw, df_store_raw, how='left', on='Store')"
   ]
  },
  {
   "cell_type": "code",
   "execution_count": 5,
   "id": "88ce843a",
   "metadata": {
    "ExecuteTime": {
     "end_time": "2023-10-02T21:40:35.124141Z",
     "start_time": "2023-10-02T21:40:34.943456Z"
    },
    "hidden": true
   },
   "outputs": [
    {
     "data": {
      "text/html": [
       "<div>\n",
       "<style scoped>\n",
       "    .dataframe tbody tr th:only-of-type {\n",
       "        vertical-align: middle;\n",
       "    }\n",
       "\n",
       "    .dataframe tbody tr th {\n",
       "        vertical-align: top;\n",
       "    }\n",
       "\n",
       "    .dataframe thead th {\n",
       "        text-align: right;\n",
       "    }\n",
       "</style>\n",
       "<table border=\"1\" class=\"dataframe\">\n",
       "  <thead>\n",
       "    <tr style=\"text-align: right;\">\n",
       "      <th></th>\n",
       "      <th>Store</th>\n",
       "      <th>DayOfWeek</th>\n",
       "      <th>Date</th>\n",
       "      <th>Sales</th>\n",
       "      <th>Customers</th>\n",
       "      <th>Open</th>\n",
       "      <th>Promo</th>\n",
       "      <th>StateHoliday</th>\n",
       "      <th>SchoolHoliday</th>\n",
       "      <th>StoreType</th>\n",
       "      <th>Assortment</th>\n",
       "      <th>CompetitionDistance</th>\n",
       "      <th>CompetitionOpenSinceMonth</th>\n",
       "      <th>CompetitionOpenSinceYear</th>\n",
       "      <th>Promo2</th>\n",
       "      <th>Promo2SinceWeek</th>\n",
       "      <th>Promo2SinceYear</th>\n",
       "      <th>PromoInterval</th>\n",
       "    </tr>\n",
       "  </thead>\n",
       "  <tbody>\n",
       "    <tr>\n",
       "      <th>543726</th>\n",
       "      <td>392</td>\n",
       "      <td>6</td>\n",
       "      <td>2014-03-01</td>\n",
       "      <td>4881</td>\n",
       "      <td>517</td>\n",
       "      <td>1</td>\n",
       "      <td>0</td>\n",
       "      <td>0</td>\n",
       "      <td>0</td>\n",
       "      <td>a</td>\n",
       "      <td>a</td>\n",
       "      <td>2120.0</td>\n",
       "      <td>NaN</td>\n",
       "      <td>NaN</td>\n",
       "      <td>0</td>\n",
       "      <td>NaN</td>\n",
       "      <td>NaN</td>\n",
       "      <td>NaN</td>\n",
       "    </tr>\n",
       "  </tbody>\n",
       "</table>\n",
       "</div>"
      ],
      "text/plain": [
       "        Store  DayOfWeek        Date  Sales  Customers  Open  Promo StateHoliday  SchoolHoliday StoreType Assortment  CompetitionDistance  CompetitionOpenSinceMonth  CompetitionOpenSinceYear  Promo2  Promo2SinceWeek  Promo2SinceYear PromoInterval\n",
       "543726    392          6  2014-03-01   4881        517     1      0            0              0         a          a               2120.0                        NaN                       NaN       0              NaN              NaN           NaN"
      ]
     },
     "execution_count": 5,
     "metadata": {},
     "output_type": "execute_result"
    }
   ],
   "source": [
    "df_raw.sample()"
   ]
  },
  {
   "cell_type": "markdown",
   "id": "7df4b28d",
   "metadata": {
    "heading_collapsed": true
   },
   "source": [
    "# 1.0. Passo 01 - DESCRIACAO DOS DADOS "
   ]
  },
  {
   "cell_type": "code",
   "execution_count": 6,
   "id": "5b2e786f",
   "metadata": {
    "ExecuteTime": {
     "end_time": "2023-10-02T21:40:35.180893Z",
     "start_time": "2023-10-02T21:40:35.125612Z"
    },
    "hidden": true
   },
   "outputs": [],
   "source": [
    "df1 = df_raw.copy()"
   ]
  },
  {
   "cell_type": "markdown",
   "id": "b22da13a",
   "metadata": {
    "hidden": true
   },
   "source": [
    "## 1.1. Rename Columns"
   ]
  },
  {
   "cell_type": "code",
   "execution_count": 7,
   "id": "bf465829",
   "metadata": {
    "ExecuteTime": {
     "end_time": "2023-10-02T21:40:35.185741Z",
     "start_time": "2023-10-02T21:40:35.182434Z"
    },
    "hidden": true
   },
   "outputs": [
    {
     "data": {
      "text/plain": [
       "Index(['Store', 'DayOfWeek', 'Date', 'Sales', 'Customers', 'Open', 'Promo',\n",
       "       'StateHoliday', 'SchoolHoliday', 'StoreType', 'Assortment',\n",
       "       'CompetitionDistance', 'CompetitionOpenSinceMonth',\n",
       "       'CompetitionOpenSinceYear', 'Promo2', 'Promo2SinceWeek',\n",
       "       'Promo2SinceYear', 'PromoInterval'],\n",
       "      dtype='object')"
      ]
     },
     "execution_count": 7,
     "metadata": {},
     "output_type": "execute_result"
    }
   ],
   "source": [
    "df_raw.columns\n",
    "# AQUI CONSULTAMOS AS COLUNAS PARA SABER COMO ESTA OS NOMES DAS COLUNAS, PODEMOS NOTAR QUE ESTAO EM LETRAR,MAIUSCULA E MINUSCULA, PARA FACILITAR, TROCAMOS OS NOMES FAZENDO A FUNCAO APRSENTADA A BAIXO "
   ]
  },
  {
   "cell_type": "code",
   "execution_count": 8,
   "id": "735a33b8",
   "metadata": {
    "ExecuteTime": {
     "end_time": "2023-10-02T21:40:35.191380Z",
     "start_time": "2023-10-02T21:40:35.187140Z"
    },
    "hidden": true
   },
   "outputs": [],
   "source": [
    "cols_old =['Store', 'DayOfWeek', 'Date', 'Sales', 'Customers', 'Open', 'Promo',\n",
    "       'StateHoliday', 'SchoolHoliday', 'StoreType', 'Assortment',\n",
    "       'CompetitionDistance', 'CompetitionOpenSinceMonth',\n",
    "       'CompetitionOpenSinceYear', 'Promo2', 'Promo2SinceWeek',\n",
    "       'Promo2SinceYear', 'PromoInterval']\n",
    "\n",
    "snakecase = lambda x: inflection.underscore( x )\n",
    "\n",
    "cols_new = list( map ( snakecase, cols_old ) )\n",
    "\n",
    "# RENAME\n",
    "df1.columns = cols_new\n",
    "\n",
    "# USAMOS ESSA FUNCAO PARA FAZEAR A ALTERACAO DOS NOMES NAS COLUNAS."
   ]
  },
  {
   "cell_type": "code",
   "execution_count": 9,
   "id": "e33a50b3",
   "metadata": {
    "ExecuteTime": {
     "end_time": "2023-10-02T21:40:35.195849Z",
     "start_time": "2023-10-02T21:40:35.192916Z"
    },
    "hidden": true
   },
   "outputs": [
    {
     "data": {
      "text/plain": [
       "Index(['store', 'day_of_week', 'date', 'sales', 'customers', 'open', 'promo',\n",
       "       'state_holiday', 'school_holiday', 'store_type', 'assortment',\n",
       "       'competition_distance', 'competition_open_since_month',\n",
       "       'competition_open_since_year', 'promo2', 'promo2_since_week',\n",
       "       'promo2_since_year', 'promo_interval'],\n",
       "      dtype='object')"
      ]
     },
     "execution_count": 9,
     "metadata": {},
     "output_type": "execute_result"
    }
   ],
   "source": [
    "df1.columns\n",
    "# CONSULTANDO O DATAFRAME PODEMOS VERIFICAR QUE OS NOMES FORAM ALTERADO PARA LETRAS MINUSCULA FACILITANDO O TRABALHO."
   ]
  },
  {
   "cell_type": "markdown",
   "id": "c6a8339d",
   "metadata": {
    "hidden": true
   },
   "source": [
    "## 1.2. Data Dimensions"
   ]
  },
  {
   "cell_type": "code",
   "execution_count": 10,
   "id": "80752b7c",
   "metadata": {
    "ExecuteTime": {
     "end_time": "2023-10-02T21:40:35.199988Z",
     "start_time": "2023-10-02T21:40:35.197394Z"
    },
    "hidden": true
   },
   "outputs": [
    {
     "name": "stdout",
     "output_type": "stream",
     "text": [
      "Number of Rows:1017209\n",
      "Number of Cols:18\n"
     ]
    }
   ],
   "source": [
    "print( 'Number of Rows:{}'.format( df1.shape[0] ) )\n",
    "print( 'Number of Cols:{}'.format( df1.shape[1] ) )\n",
    "\n",
    "# USAMOS ESSE COMANDO PARA SABER O TAMANHO DO NOSSO DATAFRAME "
   ]
  },
  {
   "cell_type": "code",
   "execution_count": null,
   "id": "ceb178ee",
   "metadata": {
    "hidden": true
   },
   "outputs": [],
   "source": []
  },
  {
   "cell_type": "markdown",
   "id": "1dac7ce9",
   "metadata": {
    "hidden": true
   },
   "source": [
    "## 1.3. Data Types"
   ]
  },
  {
   "cell_type": "code",
   "execution_count": 11,
   "id": "531c4959",
   "metadata": {
    "ExecuteTime": {
     "end_time": "2023-10-02T21:40:35.367754Z",
     "start_time": "2023-10-02T21:40:35.201582Z"
    },
    "hidden": true
   },
   "outputs": [
    {
     "data": {
      "text/plain": [
       "store                                    int64\n",
       "day_of_week                              int64\n",
       "date                            datetime64[ns]\n",
       "sales                                    int64\n",
       "customers                                int64\n",
       "open                                     int64\n",
       "promo                                    int64\n",
       "state_holiday                           object\n",
       "school_holiday                           int64\n",
       "store_type                              object\n",
       "assortment                              object\n",
       "competition_distance                   float64\n",
       "competition_open_since_month           float64\n",
       "competition_open_since_year            float64\n",
       "promo2                                   int64\n",
       "promo2_since_week                      float64\n",
       "promo2_since_year                      float64\n",
       "promo_interval                          object\n",
       "dtype: object"
      ]
     },
     "execution_count": 11,
     "metadata": {},
     "output_type": "execute_result"
    }
   ],
   "source": [
    "df1['date'] = pd.to_datetime( df1 ['date'] ) # USADO ESSA FUNCAO PARA TROCAR PARA DATA , POR QUE QUANDO SE LE O ARQUIVO A COLUNA DATA VEM COMO OBJECT, ENTAO ELE ASSUMIU COMO SE FOSSE UMA STRINGER  \n",
    "df1.dtypes"
   ]
  },
  {
   "cell_type": "markdown",
   "id": "0fe462b2",
   "metadata": {
    "hidden": true
   },
   "source": [
    "## 1.4 Check N/A"
   ]
  },
  {
   "cell_type": "code",
   "execution_count": 12,
   "id": "d7feeaf7",
   "metadata": {
    "ExecuteTime": {
     "end_time": "2023-10-02T21:40:36.008782Z",
     "start_time": "2023-10-02T21:40:35.369082Z"
    },
    "hidden": true
   },
   "outputs": [
    {
     "data": {
      "text/plain": [
       "store                                0\n",
       "day_of_week                          0\n",
       "date                                 0\n",
       "sales                                0\n",
       "customers                            0\n",
       "open                                 0\n",
       "promo                                0\n",
       "state_holiday                        0\n",
       "school_holiday                       0\n",
       "store_type                           0\n",
       "assortment                           0\n",
       "competition_distance              2642\n",
       "competition_open_since_month    323348\n",
       "competition_open_since_year     323348\n",
       "promo2                               0\n",
       "promo2_since_week               508031\n",
       "promo2_since_year               508031\n",
       "promo_interval                  508031\n",
       "dtype: int64"
      ]
     },
     "execution_count": 12,
     "metadata": {},
     "output_type": "execute_result"
    }
   ],
   "source": [
    "df1.isna().sum()"
   ]
  },
  {
   "cell_type": "code",
   "execution_count": null,
   "id": "991f34e3",
   "metadata": {
    "hidden": true
   },
   "outputs": [],
   "source": []
  },
  {
   "cell_type": "markdown",
   "id": "6cb793b3",
   "metadata": {
    "hidden": true
   },
   "source": [
    "## 1.5. Fillout N/A"
   ]
  },
  {
   "cell_type": "code",
   "execution_count": 13,
   "id": "c891f68f",
   "metadata": {
    "ExecuteTime": {
     "end_time": "2023-10-02T21:40:36.019335Z",
     "start_time": "2023-10-02T21:40:36.010176Z"
    },
    "hidden": true
   },
   "outputs": [
    {
     "data": {
      "text/plain": [
       "75860.0"
      ]
     },
     "execution_count": 13,
     "metadata": {},
     "output_type": "execute_result"
    }
   ],
   "source": [
    "df1['competition_distance'].max()\n",
    "# o valor quando voce aplica max era de 75860.0 de distancia para a outra loja, voce aplica a forma a baixo para tratar os N/A, quando voce aplica a funcao a baixo , trata os N/A faltantes e assim nao se perde os dados."
   ]
  },
  {
   "cell_type": "code",
   "execution_count": 14,
   "id": "49be3edf",
   "metadata": {
    "ExecuteTime": {
     "end_time": "2023-10-02T21:41:45.776947Z",
     "start_time": "2023-10-02T21:40:36.022728Z"
    },
    "hidden": true
   },
   "outputs": [],
   "source": [
    "# competition_distance => essa informacao voce pega no site do kaggle => CompetitionDistance - distance in meters to the nearest competitor store\n",
    "\n",
    "df1['competition_distance'] = df1['competition_distance'].apply( lambda x:200000.0 if math.isnan( x ) else x )\n",
    "\n",
    "# competition_open_since_month => Fonte Kaggle => gives the approximate year and month of the time the nearest competitor was opened\n",
    "\n",
    "df1['competition_open_since_month'] = df1.apply( lambda x: x['date' ].month if math.isnan( x['competition_open_since_month'] ) else x['competition_open_since_month'], axis=1 )\n",
    "\n",
    "# competition_open_since_year\n",
    "\n",
    "df1['competition_open_since_year'] = df1.apply( lambda x: x[ 'date' ].year if math.isnan(x['competition_open_since_year'] ) else x['competition_open_since_year'], axis=1 )\n",
    "                            \n",
    "# promo2_since_week  - describes the year and calendar week when the store started participating in Promo2 \n",
    "df1['promo2_since_week'] = df1.apply( lambda x: x[ 'date' ].week if math.isnan(x['promo2_since_week'] ) else x['promo2_since_week'], axis=1 )    \n",
    "\n",
    "# promo2_since_year \n",
    "\n",
    "df1['promo2_since_year'] = df1.apply( lambda x: x[ 'date' ].year if math.isnan(x['promo2_since_year'] ) else x['promo2_since_year'], axis=1 ) \n",
    "\n",
    "# promo_interval -PromoInterval - describes the consecutive intervals Promo2 is started, naming the months the promotion is started anew. E.g. \"Feb,May,Aug,Nov\" means each round starts in February, May, August, November of any given year for that store.\n",
    "\n",
    "month_map = {1:'Jan',2:'Fev', 3: 'Mar',4: 'Apr', 5: 'May',6: 'Jun',7: 'Jul',8: 'Aug',9: 'Sep',10: 'Oct',11: 'Nov',12: 'Dec'}\n",
    "\n",
    "df1['promo_interval'].fillna(0, inplace=True)\n",
    "\n",
    "df1['month_map'] = df1['date'].dt.month.map( month_map )\n",
    "\n",
    "df1['is_promo'] = df1[['promo_interval', 'month_map']].apply(lambda x: 0 if x['promo_interval'] == 0 else 1 if x['month_map'] in x['promo_interval'].split(',') else 0, axis=1)\n",
    "\n"
   ]
  },
  {
   "cell_type": "code",
   "execution_count": 15,
   "id": "e25fdcae",
   "metadata": {
    "ExecuteTime": {
     "end_time": "2023-10-02T21:41:46.582871Z",
     "start_time": "2023-10-02T21:41:45.779937Z"
    },
    "hidden": true
   },
   "outputs": [
    {
     "data": {
      "text/plain": [
       "store                           0\n",
       "day_of_week                     0\n",
       "date                            0\n",
       "sales                           0\n",
       "customers                       0\n",
       "open                            0\n",
       "promo                           0\n",
       "state_holiday                   0\n",
       "school_holiday                  0\n",
       "store_type                      0\n",
       "assortment                      0\n",
       "competition_distance            0\n",
       "competition_open_since_month    0\n",
       "competition_open_since_year     0\n",
       "promo2                          0\n",
       "promo2_since_week               0\n",
       "promo2_since_year               0\n",
       "promo_interval                  0\n",
       "month_map                       0\n",
       "is_promo                        0\n",
       "dtype: int64"
      ]
     },
     "execution_count": 15,
     "metadata": {},
     "output_type": "execute_result"
    }
   ],
   "source": [
    "df1.isna().sum() "
   ]
  },
  {
   "cell_type": "markdown",
   "id": "530adcd8",
   "metadata": {
    "heading_collapsed": true,
    "hidden": true
   },
   "source": [
    "## 1.6. Change Types"
   ]
  },
  {
   "cell_type": "code",
   "execution_count": 16,
   "id": "c54b3312",
   "metadata": {
    "ExecuteTime": {
     "end_time": "2023-10-02T21:41:46.588594Z",
     "start_time": "2023-10-02T21:41:46.584391Z"
    },
    "hidden": true
   },
   "outputs": [
    {
     "data": {
      "text/plain": [
       "store                                    int64\n",
       "day_of_week                              int64\n",
       "date                            datetime64[ns]\n",
       "sales                                    int64\n",
       "customers                                int64\n",
       "open                                     int64\n",
       "promo                                    int64\n",
       "state_holiday                           object\n",
       "school_holiday                           int64\n",
       "store_type                              object\n",
       "assortment                              object\n",
       "competition_distance                   float64\n",
       "competition_open_since_month           float64\n",
       "competition_open_since_year            float64\n",
       "promo2                                   int64\n",
       "promo2_since_week                      float64\n",
       "promo2_since_year                      float64\n",
       "promo_interval                          object\n",
       "month_map                               object\n",
       "is_promo                                 int64\n",
       "dtype: object"
      ]
     },
     "execution_count": 16,
     "metadata": {},
     "output_type": "execute_result"
    }
   ],
   "source": [
    "df1.dtypes"
   ]
  },
  {
   "cell_type": "code",
   "execution_count": 17,
   "id": "fefef66c",
   "metadata": {
    "ExecuteTime": {
     "end_time": "2023-10-02T21:41:46.634129Z",
     "start_time": "2023-10-02T21:41:46.589883Z"
    },
    "hidden": true
   },
   "outputs": [],
   "source": [
    "df1['competition_open_since_month'] = df1 ['competition_open_since_month'].astype( int )\n",
    "df1['competition_open_since_year'] = df1 ['competition_open_since_year'].astype( int )\n",
    "\n",
    "df1['promo2_since_week'] = df1 ['promo2_since_week'].astype( int )\n",
    "df1['promo2_since_year'] = df1 ['promo2_since_year'].astype( int )"
   ]
  },
  {
   "cell_type": "code",
   "execution_count": 18,
   "id": "1835ff58",
   "metadata": {
    "ExecuteTime": {
     "end_time": "2023-10-02T21:41:46.639391Z",
     "start_time": "2023-10-02T21:41:46.635405Z"
    },
    "hidden": true
   },
   "outputs": [
    {
     "data": {
      "text/plain": [
       "store                                    int64\n",
       "day_of_week                              int64\n",
       "date                            datetime64[ns]\n",
       "sales                                    int64\n",
       "customers                                int64\n",
       "open                                     int64\n",
       "promo                                    int64\n",
       "state_holiday                           object\n",
       "school_holiday                           int64\n",
       "store_type                              object\n",
       "assortment                              object\n",
       "competition_distance                   float64\n",
       "competition_open_since_month             int64\n",
       "competition_open_since_year              int64\n",
       "promo2                                   int64\n",
       "promo2_since_week                        int64\n",
       "promo2_since_year                        int64\n",
       "promo_interval                          object\n",
       "month_map                               object\n",
       "is_promo                                 int64\n",
       "dtype: object"
      ]
     },
     "execution_count": 18,
     "metadata": {},
     "output_type": "execute_result"
    }
   ],
   "source": [
    "df1.dtypes"
   ]
  },
  {
   "cell_type": "code",
   "execution_count": null,
   "id": "793be0e6",
   "metadata": {
    "hidden": true
   },
   "outputs": [],
   "source": []
  },
  {
   "cell_type": "code",
   "execution_count": null,
   "id": "4717aa22",
   "metadata": {
    "hidden": true
   },
   "outputs": [],
   "source": []
  },
  {
   "cell_type": "code",
   "execution_count": null,
   "id": "e907e916",
   "metadata": {
    "hidden": true
   },
   "outputs": [],
   "source": []
  },
  {
   "cell_type": "markdown",
   "id": "5348e4a1",
   "metadata": {
    "hidden": true
   },
   "source": [
    "## 1.7. Descriptive Statistical "
   ]
  },
  {
   "cell_type": "code",
   "execution_count": 19,
   "id": "b0ee9f69",
   "metadata": {
    "ExecuteTime": {
     "end_time": "2023-10-02T21:41:46.938344Z",
     "start_time": "2023-10-02T21:41:46.640750Z"
    },
    "hidden": true
   },
   "outputs": [],
   "source": [
    "num_attributes = df1.select_dtypes( include=['int64', 'float64' ] )\n",
    "cat_attributes = df1.select_dtypes( exclude=['int64', 'float64', 'datetime64[ns]'] )"
   ]
  },
  {
   "cell_type": "markdown",
   "id": "64337ce7",
   "metadata": {
    "ExecuteTime": {
     "end_time": "2023-09-27T20:18:38.550716Z",
     "start_time": "2023-09-27T20:18:38.499160Z"
    },
    "hidden": true
   },
   "source": [
    "## 1.7.1 Numerical Atributes"
   ]
  },
  {
   "cell_type": "code",
   "execution_count": 20,
   "id": "27ece403",
   "metadata": {
    "ExecuteTime": {
     "end_time": "2023-10-02T21:41:50.024837Z",
     "start_time": "2023-10-02T21:41:46.940276Z"
    },
    "hidden": true
   },
   "outputs": [],
   "source": [
    "# Central Tendency - Mean, median\n",
    "ct1 = pd.DataFrame( num_attributes.apply( np.mean ) ).T\n",
    "ct2 = pd.DataFrame( num_attributes.apply(np.median ) ).T\n",
    "\n",
    "# Dispersion - Std, Min, Max, Range, Skew, Kurtosis\n",
    "d1 = pd.DataFrame( num_attributes.apply( np.std ) ).T\n",
    "d2 = pd.DataFrame( num_attributes.apply( min ) ).T\n",
    "d3 = pd.DataFrame( num_attributes.apply( max ) ).T\n",
    "d4 = pd.DataFrame( num_attributes.apply( lambda x: x.max() -x.min() ) ).T\n",
    "d5 = pd.DataFrame( num_attributes.apply( lambda x: x.skew() ) ).T\n",
    "d6 = pd.DataFrame( num_attributes.apply( lambda x: x.kurtosis() ) ).T\n",
    "\n",
    "# Concatenate\n",
    "m = pd.concat( [d2, d3, d4, ct1, ct2, d1, d5, d6] ).T.reset_index()\n",
    "m.columns = ['attributes','min','max','range','mean','median','std','skew','kurtosis'] "
   ]
  },
  {
   "cell_type": "code",
   "execution_count": 21,
   "id": "05e1e01c",
   "metadata": {
    "ExecuteTime": {
     "end_time": "2023-10-02T21:41:50.040044Z",
     "start_time": "2023-10-02T21:41:50.026348Z"
    },
    "hidden": true
   },
   "outputs": [
    {
     "data": {
      "text/html": [
       "<div>\n",
       "<style scoped>\n",
       "    .dataframe tbody tr th:only-of-type {\n",
       "        vertical-align: middle;\n",
       "    }\n",
       "\n",
       "    .dataframe tbody tr th {\n",
       "        vertical-align: top;\n",
       "    }\n",
       "\n",
       "    .dataframe thead th {\n",
       "        text-align: right;\n",
       "    }\n",
       "</style>\n",
       "<table border=\"1\" class=\"dataframe\">\n",
       "  <thead>\n",
       "    <tr style=\"text-align: right;\">\n",
       "      <th></th>\n",
       "      <th>attributes</th>\n",
       "      <th>min</th>\n",
       "      <th>max</th>\n",
       "      <th>range</th>\n",
       "      <th>mean</th>\n",
       "      <th>median</th>\n",
       "      <th>std</th>\n",
       "      <th>skew</th>\n",
       "      <th>kurtosis</th>\n",
       "    </tr>\n",
       "  </thead>\n",
       "  <tbody>\n",
       "    <tr>\n",
       "      <th>0</th>\n",
       "      <td>store</td>\n",
       "      <td>1.0</td>\n",
       "      <td>1115.0</td>\n",
       "      <td>1114.0</td>\n",
       "      <td>558.429727</td>\n",
       "      <td>558.0</td>\n",
       "      <td>321.908493</td>\n",
       "      <td>-0.000955</td>\n",
       "      <td>-1.200524</td>\n",
       "    </tr>\n",
       "    <tr>\n",
       "      <th>1</th>\n",
       "      <td>day_of_week</td>\n",
       "      <td>1.0</td>\n",
       "      <td>7.0</td>\n",
       "      <td>6.0</td>\n",
       "      <td>3.998341</td>\n",
       "      <td>4.0</td>\n",
       "      <td>1.997390</td>\n",
       "      <td>0.001593</td>\n",
       "      <td>-1.246873</td>\n",
       "    </tr>\n",
       "    <tr>\n",
       "      <th>2</th>\n",
       "      <td>sales</td>\n",
       "      <td>0.0</td>\n",
       "      <td>41551.0</td>\n",
       "      <td>41551.0</td>\n",
       "      <td>5773.818972</td>\n",
       "      <td>5744.0</td>\n",
       "      <td>3849.924283</td>\n",
       "      <td>0.641460</td>\n",
       "      <td>1.778375</td>\n",
       "    </tr>\n",
       "    <tr>\n",
       "      <th>3</th>\n",
       "      <td>customers</td>\n",
       "      <td>0.0</td>\n",
       "      <td>7388.0</td>\n",
       "      <td>7388.0</td>\n",
       "      <td>633.145946</td>\n",
       "      <td>609.0</td>\n",
       "      <td>464.411506</td>\n",
       "      <td>1.598650</td>\n",
       "      <td>7.091773</td>\n",
       "    </tr>\n",
       "    <tr>\n",
       "      <th>4</th>\n",
       "      <td>open</td>\n",
       "      <td>0.0</td>\n",
       "      <td>1.0</td>\n",
       "      <td>1.0</td>\n",
       "      <td>0.830107</td>\n",
       "      <td>1.0</td>\n",
       "      <td>0.375539</td>\n",
       "      <td>-1.758045</td>\n",
       "      <td>1.090723</td>\n",
       "    </tr>\n",
       "    <tr>\n",
       "      <th>5</th>\n",
       "      <td>promo</td>\n",
       "      <td>0.0</td>\n",
       "      <td>1.0</td>\n",
       "      <td>1.0</td>\n",
       "      <td>0.381515</td>\n",
       "      <td>0.0</td>\n",
       "      <td>0.485758</td>\n",
       "      <td>0.487838</td>\n",
       "      <td>-1.762018</td>\n",
       "    </tr>\n",
       "    <tr>\n",
       "      <th>6</th>\n",
       "      <td>school_holiday</td>\n",
       "      <td>0.0</td>\n",
       "      <td>1.0</td>\n",
       "      <td>1.0</td>\n",
       "      <td>0.178647</td>\n",
       "      <td>0.0</td>\n",
       "      <td>0.383056</td>\n",
       "      <td>1.677842</td>\n",
       "      <td>0.815154</td>\n",
       "    </tr>\n",
       "    <tr>\n",
       "      <th>7</th>\n",
       "      <td>competition_distance</td>\n",
       "      <td>20.0</td>\n",
       "      <td>200000.0</td>\n",
       "      <td>199980.0</td>\n",
       "      <td>5935.442677</td>\n",
       "      <td>2330.0</td>\n",
       "      <td>12547.646829</td>\n",
       "      <td>10.242344</td>\n",
       "      <td>147.789712</td>\n",
       "    </tr>\n",
       "    <tr>\n",
       "      <th>8</th>\n",
       "      <td>competition_open_since_month</td>\n",
       "      <td>1.0</td>\n",
       "      <td>12.0</td>\n",
       "      <td>11.0</td>\n",
       "      <td>6.786849</td>\n",
       "      <td>7.0</td>\n",
       "      <td>3.311085</td>\n",
       "      <td>-0.042076</td>\n",
       "      <td>-1.232607</td>\n",
       "    </tr>\n",
       "    <tr>\n",
       "      <th>9</th>\n",
       "      <td>competition_open_since_year</td>\n",
       "      <td>1900.0</td>\n",
       "      <td>2015.0</td>\n",
       "      <td>115.0</td>\n",
       "      <td>2010.324840</td>\n",
       "      <td>2012.0</td>\n",
       "      <td>5.515591</td>\n",
       "      <td>-7.235657</td>\n",
       "      <td>124.071304</td>\n",
       "    </tr>\n",
       "    <tr>\n",
       "      <th>10</th>\n",
       "      <td>promo2</td>\n",
       "      <td>0.0</td>\n",
       "      <td>1.0</td>\n",
       "      <td>1.0</td>\n",
       "      <td>0.500564</td>\n",
       "      <td>1.0</td>\n",
       "      <td>0.500000</td>\n",
       "      <td>-0.002255</td>\n",
       "      <td>-1.999999</td>\n",
       "    </tr>\n",
       "    <tr>\n",
       "      <th>11</th>\n",
       "      <td>promo2_since_week</td>\n",
       "      <td>1.0</td>\n",
       "      <td>52.0</td>\n",
       "      <td>51.0</td>\n",
       "      <td>23.619033</td>\n",
       "      <td>22.0</td>\n",
       "      <td>14.310057</td>\n",
       "      <td>0.178723</td>\n",
       "      <td>-1.184046</td>\n",
       "    </tr>\n",
       "    <tr>\n",
       "      <th>12</th>\n",
       "      <td>promo2_since_year</td>\n",
       "      <td>2009.0</td>\n",
       "      <td>2015.0</td>\n",
       "      <td>6.0</td>\n",
       "      <td>2012.793297</td>\n",
       "      <td>2013.0</td>\n",
       "      <td>1.662657</td>\n",
       "      <td>-0.784436</td>\n",
       "      <td>-0.210075</td>\n",
       "    </tr>\n",
       "    <tr>\n",
       "      <th>13</th>\n",
       "      <td>is_promo</td>\n",
       "      <td>0.0</td>\n",
       "      <td>1.0</td>\n",
       "      <td>1.0</td>\n",
       "      <td>0.155231</td>\n",
       "      <td>0.0</td>\n",
       "      <td>0.362124</td>\n",
       "      <td>1.904152</td>\n",
       "      <td>1.625796</td>\n",
       "    </tr>\n",
       "  </tbody>\n",
       "</table>\n",
       "</div>"
      ],
      "text/plain": [
       "                      attributes     min       max     range         mean  median           std       skew    kurtosis\n",
       "0                          store     1.0    1115.0    1114.0   558.429727   558.0    321.908493  -0.000955   -1.200524\n",
       "1                    day_of_week     1.0       7.0       6.0     3.998341     4.0      1.997390   0.001593   -1.246873\n",
       "2                          sales     0.0   41551.0   41551.0  5773.818972  5744.0   3849.924283   0.641460    1.778375\n",
       "3                      customers     0.0    7388.0    7388.0   633.145946   609.0    464.411506   1.598650    7.091773\n",
       "4                           open     0.0       1.0       1.0     0.830107     1.0      0.375539  -1.758045    1.090723\n",
       "5                          promo     0.0       1.0       1.0     0.381515     0.0      0.485758   0.487838   -1.762018\n",
       "6                 school_holiday     0.0       1.0       1.0     0.178647     0.0      0.383056   1.677842    0.815154\n",
       "7           competition_distance    20.0  200000.0  199980.0  5935.442677  2330.0  12547.646829  10.242344  147.789712\n",
       "8   competition_open_since_month     1.0      12.0      11.0     6.786849     7.0      3.311085  -0.042076   -1.232607\n",
       "9    competition_open_since_year  1900.0    2015.0     115.0  2010.324840  2012.0      5.515591  -7.235657  124.071304\n",
       "10                        promo2     0.0       1.0       1.0     0.500564     1.0      0.500000  -0.002255   -1.999999\n",
       "11             promo2_since_week     1.0      52.0      51.0    23.619033    22.0     14.310057   0.178723   -1.184046\n",
       "12             promo2_since_year  2009.0    2015.0       6.0  2012.793297  2013.0      1.662657  -0.784436   -0.210075\n",
       "13                      is_promo     0.0       1.0       1.0     0.155231     0.0      0.362124   1.904152    1.625796"
      ]
     },
     "execution_count": 21,
     "metadata": {},
     "output_type": "execute_result"
    }
   ],
   "source": [
    "m"
   ]
  },
  {
   "cell_type": "code",
   "execution_count": 22,
   "id": "702ad33c",
   "metadata": {
    "ExecuteTime": {
     "end_time": "2023-10-02T21:41:53.175866Z",
     "start_time": "2023-10-02T21:41:50.041434Z"
    },
    "hidden": true
   },
   "outputs": [
    {
     "name": "stderr",
     "output_type": "stream",
     "text": [
      "/Users/jhmartire/opt/anaconda3/lib/python3.9/site-packages/seaborn/distributions.py:2619: FutureWarning: `distplot` is a deprecated function and will be removed in a future version. Please adapt your code to use either `displot` (a figure-level function with similar flexibility) or `histplot` (an axes-level function for histograms).\n",
      "  warnings.warn(msg, FutureWarning)\n"
     ]
    },
    {
     "data": {
      "text/plain": [
       "<AxesSubplot:xlabel='sales', ylabel='Density'>"
      ]
     },
     "execution_count": 22,
     "metadata": {},
     "output_type": "execute_result"
    },
    {
     "data": {
      "image/png": "[encoded data removed]",
      "text/plain": [
       "<Figure size 1296x432 with 1 Axes>"
      ]
     },
     "metadata": {},
     "output_type": "display_data"
    }
   ],
   "source": [
    "sns.distplot( df1['sales'] )"
   ]
  },
  {
   "cell_type": "markdown",
   "id": "6478a78a",
   "metadata": {
    "hidden": true
   },
   "source": [
    "## 1.7.2 Categorical Attributes"
   ]
  },
  {
   "cell_type": "code",
   "execution_count": 23,
   "id": "af96e0fe",
   "metadata": {
    "ExecuteTime": {
     "end_time": "2023-10-02T21:41:53.427274Z",
     "start_time": "2023-10-02T21:41:53.177491Z"
    },
    "hidden": true
   },
   "outputs": [
    {
     "data": {
      "text/plain": [
       "state_holiday      4\n",
       "store_type         4\n",
       "assortment         3\n",
       "promo_interval     4\n",
       "month_map         12\n",
       "dtype: int64"
      ]
     },
     "execution_count": 23,
     "metadata": {},
     "output_type": "execute_result"
    }
   ],
   "source": [
    "cat_attributes.apply( lambda x: x.unique(). shape[0] )"
   ]
  },
  {
   "cell_type": "code",
   "execution_count": 24,
   "id": "d4fd03ca",
   "metadata": {
    "ExecuteTime": {
     "end_time": "2023-10-02T21:41:54.122116Z",
     "start_time": "2023-10-02T21:41:53.428741Z"
    },
    "hidden": true
   },
   "outputs": [
    {
     "data": {
      "text/plain": [
       "<AxesSubplot:xlabel='assortment', ylabel='sales'>"
      ]
     },
     "execution_count": 24,
     "metadata": {},
     "output_type": "execute_result"
    },
    {
     "data": {
      "image/png": "[encoded data removed]",
      "text/plain": [
       "<Figure size 1296x432 with 3 Axes>"
      ]
     },
     "metadata": {},
     "output_type": "display_data"
    }
   ],
   "source": [
    "aux1 = df1[ ( df1['state_holiday'] != '0' ) & (df1['sales']> 0 ) ]\n",
    "\n",
    "plt.subplot(1,3,1)\n",
    "sns.boxplot ( x='state_holiday', y='sales', data=aux1 )\n",
    "\n",
    "plt.subplot(1,3,2)\n",
    "sns.boxplot ( x='store_type', y='sales', data=aux1 )\n",
    "\n",
    "plt.subplot(1,3,3)\n",
    "sns.boxplot ( x='assortment', y='sales', data=aux1 )\n"
   ]
  },
  {
   "cell_type": "markdown",
   "id": "56dc23cb",
   "metadata": {},
   "source": [
    "# 2.0. Passo 02 - FEATURE ENGINEERING "
   ]
  },
  {
   "cell_type": "code",
   "execution_count": 41,
   "id": "c6c802cb",
   "metadata": {
    "ExecuteTime": {
     "end_time": "2023-10-03T21:17:07.682747Z",
     "start_time": "2023-10-03T21:17:07.316496Z"
    }
   },
   "outputs": [],
   "source": [
    "df2 = df1.copy()"
   ]
  },
  {
   "cell_type": "markdown",
   "id": "25a957d7",
   "metadata": {
    "ExecuteTime": {
     "end_time": "2023-10-02T22:08:38.162086Z",
     "start_time": "2023-10-02T22:08:38.153545Z"
    },
    "heading_collapsed": true
   },
   "source": [
    "## 2.1. Mind map Height Hypothesis"
   ]
  },
  {
   "cell_type": "code",
   "execution_count": 32,
   "id": "14629cc0",
   "metadata": {
    "ExecuteTime": {
     "end_time": "2023-10-02T21:54:21.924419Z",
     "start_time": "2023-10-02T21:54:21.909993Z"
    },
    "hidden": true
   },
   "outputs": [
    {
     "data": {
      "image/png": "[encoded data removed]",
      "text/plain": [
       "<IPython.core.display.Image object>"
      ]
     },
     "execution_count": 32,
     "metadata": {
      "image/png": {
       "height": 800,
       "width": 800
      }
     },
     "output_type": "execute_result"
    }
   ],
   "source": [
    "Image( 'img/MindMapHypothesis.png', width=800, height=800)"
   ]
  },
  {
   "cell_type": "markdown",
   "id": "fbb653f5",
   "metadata": {
    "ExecuteTime": {
     "end_time": "2023-10-02T22:10:01.980938Z",
     "start_time": "2023-10-02T22:10:01.977914Z"
    },
    "heading_collapsed": true
   },
   "source": [
    "## 2.1. Criacao das Hipoteses"
   ]
  },
  {
   "cell_type": "markdown",
   "id": "58172b63",
   "metadata": {
    "ExecuteTime": {
     "end_time": "2023-10-02T22:10:25.581119Z",
     "start_time": "2023-10-02T22:10:25.575832Z"
    },
    "hidden": true
   },
   "source": [
    "### 2.1.1. Hipoteses Loja"
   ]
  },
  {
   "cell_type": "markdown",
   "id": "4b1e2a2f",
   "metadata": {
    "ExecuteTime": {
     "end_time": "2023-10-02T22:15:43.550461Z",
     "start_time": "2023-10-02T22:15:43.529786Z"
    },
    "hidden": true
   },
   "source": [
    "**1.**  Lojas com numero maior de funcionario deveriam vender mais.\n",
    "\n",
    "**2.**  Lojas com mair capacidade de estoque deveriam vender mais.\n",
    "\n",
    "**3.**  Lojas com maior porte deveriam vender mais.\n",
    "\n",
    "**4.**  Lojas com maior sortimento deveriam vender mais.\n",
    "\n",
    "**5.**  Lojas com competidores mais proximos deveriam vender menos.\n",
    "\n",
    "**6.** Lojas com competidores a mais tempo deveriam vender mais."
   ]
  },
  {
   "cell_type": "markdown",
   "id": "3969605f",
   "metadata": {
    "ExecuteTime": {
     "end_time": "2023-10-02T22:10:25.581119Z",
     "start_time": "2023-10-02T22:10:25.575832Z"
    },
    "hidden": true
   },
   "source": [
    "### 2.1.2. Hipoteses do Produto"
   ]
  },
  {
   "cell_type": "markdown",
   "id": "67cd70c8",
   "metadata": {
    "ExecuteTime": {
     "end_time": "2023-10-02T22:23:04.199399Z",
     "start_time": "2023-10-02T22:23:04.172615Z"
    },
    "hidden": true
   },
   "source": [
    "**1.**  Lojas que investem mais em Marketin deveriam vender mais.\n",
    "\n",
    "**2.**  Lojas com maior exposicao de produto deveriam denver mais.\n",
    "\n",
    "**3.**  Lojas com produtos com preco menor deveriam vender mais.\n",
    "\n",
    "**4.**  Lojas com promocoes mais agressivas ( descontos maiores), deveriam vender mais.\n",
    "\n",
    "**5.**  Lojas com promocoes ativas por mais tempo deveriam vender mais.\n",
    "\n",
    "**6.**  Lojas com mais dias de promocao deveriam vender mais.\n",
    "\n",
    "**7.**  Lojas com mais promocoes consecutivas deveriam vender mais.\n"
   ]
  },
  {
   "cell_type": "markdown",
   "id": "d7f8042f",
   "metadata": {
    "hidden": true
   },
   "source": [
    "### 2.1.3. Hipoteses Tempo"
   ]
  },
  {
   "cell_type": "markdown",
   "id": "0437b36d",
   "metadata": {
    "hidden": true
   },
   "source": [
    "**1.**  Lojas abertas durante o feriado de Natal deveriam vender mais.\n",
    "\n",
    "**2.**  Lojas deveriam vender mais ao longo dos anos.\n",
    "\n",
    "**3.**  Lojas deveriam vender mais no segundo semestre do ano.\n",
    "\n",
    "**4.**  Lojas deveriam vender mais depois do dia 10 de cada mes.\n",
    "\n",
    "**5.**  Lojas deveriam vender menos aos finais de semana.\n",
    "\n",
    "**6.**  Lojas deveriam vender menos durante os feriados escolares.\n",
    "\n"
   ]
  },
  {
   "cell_type": "markdown",
   "id": "965b55bc",
   "metadata": {
    "ExecuteTime": {
     "end_time": "2023-10-03T21:03:52.497706Z",
     "start_time": "2023-10-03T21:03:52.476478Z"
    }
   },
   "source": [
    "## 2.2. Lista final de Hipoteses"
   ]
  },
  {
   "cell_type": "markdown",
   "id": "26d410ea",
   "metadata": {
    "ExecuteTime": {
     "end_time": "2023-10-03T21:08:40.388055Z",
     "start_time": "2023-10-03T21:08:40.372948Z"
    }
   },
   "source": [
    "**1.**  Lojas com maior sortimento deveriam vender mais.\n",
    "\n",
    "**2.**  Lojas com competidores mais proximos deveriam vender menos.\n",
    "\n",
    "**3.** Lojas com competidores a mais tempo deveriam vender mais.\n",
    "\n",
    "**4.**  Lojas com promocoes ativas por mais tempo deveriam vender mais.\n",
    "\n",
    "**5.**  Lojas com mais dias de promocao deveriam vender mais.\n",
    "\n",
    "**6.**  Lojas com mais promocoes consecutivas deveriam vender mais.\n",
    "\n",
    "**7.**  Lojas abertas durante o feriado de Natal deveriam vender mais.\n",
    "\n",
    "**8.**  Lojas deveriam vender mais ao longo dos anos.\n",
    "\n",
    "**9.**  Lojas deveriam vender mais no segundo semestre do ano.\n",
    "\n",
    "**10.**  Lojas deveriam vender mais depois do dia 10 de cada mes.\n",
    "\n",
    "**11.**  Lojas deveriam vender menos aos finais de semana.\n",
    "\n",
    "**12.**  Lojas deveriam vender menos durante os feriados escolares.\n",
    "\n",
    "\n"
   ]
  },
  {
   "cell_type": "markdown",
   "id": "3ff24c44",
   "metadata": {
    "ExecuteTime": {
     "end_time": "2023-10-03T21:18:02.328978Z",
     "start_time": "2023-10-03T21:18:02.309621Z"
    }
   },
   "source": [
    "## 2.3. Feature Engineering"
   ]
  },
  {
   "cell_type": "code",
   "execution_count": 55,
   "id": "0c7cc232",
   "metadata": {
    "ExecuteTime": {
     "end_time": "2023-10-03T22:12:02.059843Z",
     "start_time": "2023-10-03T22:11:28.699175Z"
    }
   },
   "outputs": [
    {
     "name": "stderr",
     "output_type": "stream",
     "text": [
      "/var/folders/vp/z0zsw7sd3z1g0l663x5px37r0000gn/T/ipykernel_86713/3257734634.py:11: FutureWarning: Series.dt.weekofyear and Series.dt.week have been deprecated. Please use Series.dt.isocalendar().week instead.\n",
      "  df2[ 'week_of_year' ] = df2[ 'date' ].dt.weekofyear\n"
     ]
    }
   ],
   "source": [
    "# Year\n",
    "df2[ 'year' ] = df2[ 'date' ].dt.year\n",
    "\n",
    "# Month\n",
    "df2[ 'month' ] = df2[ 'date' ].dt.month\n",
    "\n",
    "# Day\n",
    "df2[ 'day' ] = df2[ 'date' ].dt.day\n",
    "\n",
    "# Week of Year\n",
    "df2[ 'week_of_year' ] = df2[ 'date' ].dt.weekofyear\n",
    "\n",
    "# Yaar week\n",
    "df2[ 'year_week' ] = df2[ 'date' ].dt.strftime( '%Y-%w' )\n",
    "\n",
    "# Competition since \n",
    "df2['competition_since'] = df2.apply( lambda x: datetime.datetime( year=x['competition_open_since_year'], month=x['competition_open_since_month'], day=1 ), axis=1 )\n",
    "df2[ 'competition_time_month'] = ( ( df2['date'] - df2['competition_since'] ) /30 ).apply(lambda x: x.days ).astype( int )\n",
    "\n",
    "# promo since\n",
    "df2['promo_since'] = df2[ 'promo2_since_year'].astype( str ) + '-' + df2['promo2_since_week'].astype( str )\n",
    "df2['promo_since'] = df2['promo_since'].apply(lambda x: datetime.datetime.strptime(x + '-1', '%Y-%W-%w') - datetime.timedelta(days=7))\n",
    "df2['promo_time_week'] = ( ( df2['date'] - df2['promo_since'] )/7 ).apply( lambda x: x.days ).astype( int )\n",
    "\n",
    "\n",
    "#assortment\n",
    "#state holiday"
   ]
  },
  {
   "cell_type": "code",
   "execution_count": null,
   "id": "1d8e83ea",
   "metadata": {
    "ExecuteTime": {
     "end_time": "2023-10-03T21:34:58.859976Z",
     "start_time": "2023-10-03T21:34:58.859969Z"
    }
   },
   "outputs": [],
   "source": [
    "df2.head().T"
   ]
  },
  {
   "cell_type": "code",
   "execution_count": null,
   "id": "c468c752",
   "metadata": {},
   "outputs": [],
   "source": []
  },
  {
   "cell_type": "code",
   "execution_count": null,
   "id": "c0aa40cd",
   "metadata": {},
   "outputs": [],
   "source": []
  },
  {
   "cell_type": "code",
   "execution_count": null,
   "id": "0f5753ae",
   "metadata": {},
   "outputs": [],
   "source": []
  },
  {
   "cell_type": "code",
   "execution_count": null,
   "id": "1c01f861",
   "metadata": {},
   "outputs": [],
   "source": []
  },
  {
   "cell_type": "code",
   "execution_count": null,
   "id": "eb0138c7",
   "metadata": {},
   "outputs": [],
   "source": []
  },
  {
   "cell_type": "code",
   "execution_count": null,
   "id": "affd129d",
   "metadata": {},
   "outputs": [],
   "source": []
  }
 ],
 "metadata": {
  "kernelspec": {
   "display_name": "Python 3 (ipykernel)",
   "language": "python",
   "name": "python3"
  },
  "language_info": {
   "codemirror_mode": {
    "name": "ipython",
    "version": 3
   },
   "file_extension": ".py",
   "mimetype": "text/x-python",
   "name": "python",
   "nbconvert_exporter": "python",
   "pygments_lexer": "ipython3",
   "version": "3.9.12"
  }
 },
 "nbformat": 4,
 "nbformat_minor": 5
}
